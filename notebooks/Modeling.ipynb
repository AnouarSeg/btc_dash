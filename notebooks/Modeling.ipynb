{
 "cells": [
  {
   "cell_type": "code",
   "execution_count": 1,
   "metadata": {},
   "outputs": [],
   "source": [
    "import sys, os\n",
    "from pathlib import Path\n",
    "import pandas as pd\n",
    "import numpy as np\n",
    "from pandas.util.testing import assert_frame_equal\n",
    "\n",
    "from statsmodels.tsa.stattools import acf, adfuller\n",
    "from statsmodels.tsa.ar_model import AR\n",
    "from statsmodels.tsa.arima_model import ARIMA\n",
    "from statsmodels.tsa.arima_model import ARIMAResults\n",
    "import joblib\n",
    "\n",
    "from sklearn.metrics import accuracy_score, mean_absolute_error, mean_squared_error, confusion_matrix\n",
    "\n",
    "import matplotlib.pyplot as plt\n",
    "import seaborn as sns\n",
    "%matplotlib inline\n",
    "\n",
    "sys.path.append(\"..\")\n",
    "from btc_predictor.utils import preproc"
   ]
  },
  {
   "cell_type": "code",
   "execution_count": 2,
   "metadata": {},
   "outputs": [],
   "source": [
    "df = pd.read_csv(\"../btc_predictor/datasets/btcusd.csv\")"
   ]
  },
  {
   "cell_type": "code",
   "execution_count": 3,
   "metadata": {},
   "outputs": [],
   "source": [
    "BTCUSD  = preproc(df.copy())\n",
    "\n",
    "BTCUSD['log_ret'] = np.log(BTCUSD.Close) - np.log(BTCUSD.Close.shift(1))\n",
    "\n",
    "BTCUSD['baseline_Close'] = BTCUSD.Close.shift(1)\n",
    "BTCUSD['baseline_log_ret'] = np.log(BTCUSD.baseline_Close) - np.log(BTCUSD.baseline_Close.shift(1))\n",
    "BTCUSD.dropna(inplace=True)"
   ]
  },
  {
   "cell_type": "markdown",
   "metadata": {},
   "source": [
    "# 1. Establishing Baseline"
   ]
  },
  {
   "cell_type": "code",
   "execution_count": 4,
   "metadata": {
    "scrolled": false
   },
   "outputs": [
    {
     "data": {
      "text/plain": [
       "9.95356055887107"
      ]
     },
     "execution_count": 4,
     "metadata": {},
     "output_type": "execute_result"
    }
   ],
   "source": [
    "np.sqrt(mean_absolute_error(BTCUSD.Close, BTCUSD.baseline_Close))"
   ]
  },
  {
   "cell_type": "code",
   "execution_count": 5,
   "metadata": {},
   "outputs": [
    {
     "data": {
      "text/plain": [
       "count     2031.000000\n",
       "mean      2928.330074\n",
       "std       3627.266960\n",
       "min        178.100000\n",
       "25%        420.485000\n",
       "50%        739.250000\n",
       "75%       5048.250000\n",
       "max      19497.400000\n",
       "Name: Close, dtype: float64"
      ]
     },
     "execution_count": 5,
     "metadata": {},
     "output_type": "execute_result"
    }
   ],
   "source": [
    "BTCUSD.Close.describe()"
   ]
  },
  {
   "cell_type": "markdown",
   "metadata": {},
   "source": [
    "Due to the wild fluctuations of BTCUSD prices, from \\\\$700s at the beginning of our data stream to \\\\$10,000s towards the end, root mean squared error become an useless metric as the former erorr will miniscule compare to the later errors. Instead, we will look at the RMSE of the normalized and stationary log return."
   ]
  },
  {
   "cell_type": "code",
   "execution_count": 6,
   "metadata": {
    "scrolled": true
   },
   "outputs": [
    {
     "data": {
      "text/plain": [
       "0.05635804810175371"
      ]
     },
     "execution_count": 6,
     "metadata": {},
     "output_type": "execute_result"
    }
   ],
   "source": [
    "np.sqrt(mean_squared_error(BTCUSD.log_ret, BTCUSD.baseline_log_ret))"
   ]
  },
  {
   "cell_type": "markdown",
   "metadata": {},
   "source": [
    "The loss is around 5%, which means the prior day return is an extremely great predictor of current day return. It would be hard to beat that. But the story will change if we look at the directions of the return. The direction of the return is more important than the magnitude of the return, i.e., a trade will be money losing when the direction is wrong."
   ]
  },
  {
   "cell_type": "code",
   "execution_count": 7,
   "metadata": {},
   "outputs": [
    {
     "name": "stdout",
     "output_type": "stream",
     "text": [
      "Baseline RMSE is 0.0564, directional accuracy is 0.4884\n"
     ]
    }
   ],
   "source": [
    "print(\"Baseline RMSE is {:.4f}, directional accuracy is {:.4f}\".format(\n",
    "                                np.sqrt(mean_squared_error(BTCUSD.log_ret, BTCUSD.baseline_log_ret)),\n",
    "                                accuracy_score(np.sign(BTCUSD.log_ret), np.sign(BTCUSD.baseline_log_ret))))"
   ]
  },
  {
   "cell_type": "code",
   "execution_count": 8,
   "metadata": {},
   "outputs": [
    {
     "data": {
      "text/plain": [
       "0.48842934515017233"
      ]
     },
     "execution_count": 8,
     "metadata": {},
     "output_type": "execute_result"
    }
   ],
   "source": [
    "accuracy_score(np.sign(BTCUSD.log_ret), np.sign(BTCUSD.baseline_log_ret))"
   ]
  },
  {
   "cell_type": "code",
   "execution_count": 9,
   "metadata": {},
   "outputs": [
    {
     "data": {
      "text/plain": [
       "(array([-1.,  1.,  0.]), array([ 1., -1.,  0.]))"
      ]
     },
     "execution_count": 9,
     "metadata": {},
     "output_type": "execute_result"
    }
   ],
   "source": [
    "np.sign(BTCUSD.log_ret).unique(), np.sign(BTCUSD.baseline_log_ret).unique()"
   ]
  },
  {
   "cell_type": "markdown",
   "metadata": {},
   "source": [
    "As expected, the direction of prior day log returns is a poor predictor of the direction of current day log returns. While we can obsess with minimizing the RMSE to get a 'better' prediction, we won't be able to capitalize on that prediction until we get the direction right. Thus, it would be economically more important to obtain a better direction prediction than a better magnitude direction."
   ]
  },
  {
   "cell_type": "code",
   "execution_count": 10,
   "metadata": {},
   "outputs": [
    {
     "data": {
      "image/png": "[encoded data removed]",
      "text/plain": [
       "<Figure size 432x288 with 2 Axes>"
      ]
     },
     "metadata": {
      "needs_background": "light"
     },
     "output_type": "display_data"
    }
   ],
   "source": [
    "df_cm = pd.DataFrame(confusion_matrix(np.sign(BTCUSD.log_ret), np.sign(BTCUSD.baseline_log_ret)),  \n",
    "                     index = [i for i in \"-*+\"],\n",
    "                     columns = [i for i in \"-*+\"])\n",
    "sns.heatmap(df_cm, annot=True, cmap='Blues', fmt='g');"
   ]
  },
  {
   "cell_type": "markdown",
   "metadata": {},
   "source": [
    "## 1.2 Autoregressive (AR) Model"
   ]
  },
  {
   "cell_type": "code",
   "execution_count": 11,
   "metadata": {},
   "outputs": [],
   "source": [
    "train = BTCUSD.iloc[0:1700, :]['log_ret']\n",
    "test = BTCUSD.iloc[1700:, :]['log_ret']"
   ]
  },
  {
   "cell_type": "code",
   "execution_count": 12,
   "metadata": {
    "scrolled": true
   },
   "outputs": [],
   "source": [
    "ar = AR(train, freq='D').fit()\n",
    "\n",
    "y_pred = ar.predict(test.index[0], test.index[-1], dynamic=True)\n",
    "assert len(y_pred) == test.shape[0]"
   ]
  },
  {
   "cell_type": "code",
   "execution_count": 13,
   "metadata": {},
   "outputs": [
    {
     "name": "stdout",
     "output_type": "stream",
     "text": [
      "Prediction RMSE is 0.0379, directional accuracy is 0.5559\n"
     ]
    }
   ],
   "source": [
    "print(\"Prediction RMSE is {:.4f}, directional accuracy is {:.4f}\".format(\n",
    "                                                        np.sqrt(mean_squared_error(y_pred, test)),\n",
    "                                                        accuracy_score(np.sign(test), np.sign(y_pred))))"
   ]
  },
  {
   "cell_type": "markdown",
   "metadata": {},
   "source": [
    "## 1.3 Univariate Autoregressive integrated Moving Average (ARIMA) Model"
   ]
  },
  {
   "cell_type": "code",
   "execution_count": 14,
   "metadata": {},
   "outputs": [],
   "source": [
    "train = BTCUSD.iloc[0:1700, :]['log_ret']\n",
    "test = BTCUSD.iloc[1700:, :]['log_ret']"
   ]
  },
  {
   "cell_type": "code",
   "execution_count": 15,
   "metadata": {},
   "outputs": [],
   "source": [
    "def metrics(y, y_pred):\n",
    "    print(\"Prediction RMSE is {:.4f}, directional accuracy is {:.4f}\".format(\n",
    "                                        np.sqrt(mean_squared_error(y, y_pred)),\n",
    "                                        accuracy_score(np.sign(y), np.sign(y_pred))))\n",
    "    pass"
   ]
  },
  {
   "cell_type": "code",
   "execution_count": 16,
   "metadata": {},
   "outputs": [
    {
     "name": "stdout",
     "output_type": "stream",
     "text": [
      "Wall time: 215 ms\n"
     ]
    }
   ],
   "source": [
    "%time arima = ARIMA(train, order = (3,1,0), freq='D').fit(disp = 0)\n",
    "y_pred_arima = arima.predict(test.index[0], test.index[-1], dynamic = True)"
   ]
  },
  {
   "cell_type": "code",
   "execution_count": 17,
   "metadata": {
    "scrolled": true
   },
   "outputs": [
    {
     "data": {
      "text/plain": [
       "2018-08-23    0.012709\n",
       "2018-08-24    0.001075\n",
       "2018-08-25    0.003010\n",
       "2018-08-26   -0.005729\n",
       "2018-08-27    0.002425\n",
       "                ...   \n",
       "2019-07-15    0.000004\n",
       "2019-07-16    0.000004\n",
       "2019-07-17    0.000004\n",
       "2019-07-18    0.000004\n",
       "2019-07-19    0.000004\n",
       "Freq: D, Length: 331, dtype: float64"
      ]
     },
     "execution_count": 17,
     "metadata": {},
     "output_type": "execute_result"
    }
   ],
   "source": [
    "y_pred_arima"
   ]
  },
  {
   "cell_type": "code",
   "execution_count": 18,
   "metadata": {},
   "outputs": [
    {
     "data": {
      "text/plain": [
       "Date\n",
       "2018-08-23    0.024502\n",
       "2018-08-24    0.027928\n",
       "2018-08-25    0.006412\n",
       "2018-08-26   -0.008304\n",
       "2018-08-27    0.026102\n",
       "2018-08-28    0.030278\n",
       "2018-08-29   -0.006946\n",
       "2018-08-30   -0.009829\n",
       "Name: log_ret, dtype: float64"
      ]
     },
     "execution_count": 18,
     "metadata": {},
     "output_type": "execute_result"
    }
   ],
   "source": [
    "test[:8]"
   ]
  },
  {
   "cell_type": "code",
   "execution_count": 19,
   "metadata": {},
   "outputs": [
    {
     "name": "stdout",
     "output_type": "stream",
     "text": [
      "Prediction RMSE is 0.0378, directional accuracy is 0.5650\n"
     ]
    }
   ],
   "source": [
    "metrics(test, y_pred_arima)"
   ]
  },
  {
   "cell_type": "markdown",
   "metadata": {},
   "source": [
    "That's a big improvement to our baseline of 0.056 RMSE and 0.4884 direction accuracy. Let's visualize our predictions."
   ]
  },
  {
   "cell_type": "code",
   "execution_count": 20,
   "metadata": {},
   "outputs": [
    {
     "data": {
      "image/png": "[encoded data removed]",
      "text/plain": [
       "<Figure size 432x288 with 1 Axes>"
      ]
     },
     "metadata": {
      "needs_background": "light"
     },
     "output_type": "display_data"
    }
   ],
   "source": [
    "y_pred_arima.plot();"
   ]
  },
  {
   "cell_type": "markdown",
   "metadata": {},
   "source": [
    "To get back prices from log returns, we multiply current period price by predicted next period return `np.exp(log_ret)`."
   ]
  },
  {
   "cell_type": "code",
   "execution_count": 21,
   "metadata": {
    "scrolled": false
   },
   "outputs": [
    {
     "data": {
      "image/png": "[encoded data removed]",
      "text/plain": [
       "<Figure size 432x288 with 1 Axes>"
      ]
     },
     "metadata": {
      "needs_background": "light"
     },
     "output_type": "display_data"
    }
   ],
   "source": [
    "y_true_s = pd.Series(np.exp(test.shift(-1)) *  BTCUSD.iloc[1700:, :]['Close'])# test_df.Close)\n",
    "y_arima_pred_s = pd.Series(np.exp(y_pred_arima.shift(-1)) *  BTCUSD.iloc[1700:, :]['Close'])#test_df.Close)\n",
    "\n",
    "foo = pd.concat([y_true_s, y_arima_pred_s], axis=1)\n",
    "foo.columns = ['price', 'pred']\n",
    "foo.plot();"
   ]
  },
  {
   "cell_type": "markdown",
   "metadata": {},
   "source": [
    "It seems like the predictive power quickly diminishes to just using last price after a few forward periods. Let's look at how the predictive power of the first 7 periods."
   ]
  },
  {
   "cell_type": "code",
   "execution_count": 22,
   "metadata": {},
   "outputs": [
    {
     "name": "stdout",
     "output_type": "stream",
     "text": [
      "Prediction RMSE is 0.0175, directional accuracy is 1.0000\n"
     ]
    }
   ],
   "source": [
    "y_pred_arima = arima.predict(test.index[0], test.index[7], dynamic = True)\n",
    "metrics(test[:8], y_pred_arima)"
   ]
  },
  {
   "cell_type": "markdown",
   "metadata": {},
   "source": [
    "That's super interesting. Perhaps the RNGesus favored us there. Let's just use a rolling 60 day window for training to predict the next 9 period price."
   ]
  },
  {
   "cell_type": "markdown",
   "metadata": {},
   "source": [
    "## 1.4 Rolling Window ARIMA"
   ]
  },
  {
   "cell_type": "code",
   "execution_count": 68,
   "metadata": {},
   "outputs": [],
   "source": [
    "clone = BTCUSD.copy()\n",
    "start = 1700\n",
    "end = 2031\n",
    "window = 60 #60\n",
    "y_rolling_arima = pd.Series([])\n",
    "periods = range(start-window, end, 1) #9"
   ]
  },
  {
   "cell_type": "code",
   "execution_count": 70,
   "metadata": {
    "scrolled": false
   },
   "outputs": [
    {
     "name": "stderr",
     "output_type": "stream",
     "text": [
      "c:\\users\\han-chung lee\\.virtualenvs\\btc_dash-bupzssx2\\lib\\site-packages\\statsmodels\\base\\model.py:512: ConvergenceWarning: Maximum Likelihood optimization failed to converge. Check mle_retvals\n",
      "  \"Check mle_retvals\", ConvergenceWarning)\n",
      "c:\\users\\han-chung lee\\.virtualenvs\\btc_dash-bupzssx2\\lib\\site-packages\\statsmodels\\base\\model.py:512: ConvergenceWarning: Maximum Likelihood optimization failed to converge. Check mle_retvals\n",
      "  \"Check mle_retvals\", ConvergenceWarning)\n"
     ]
    }
   ],
   "source": [
    "for p in periods:\n",
    "    ptrain = clone.iloc[(p - window):p, :]['log_ret']\n",
    "    ptest = clone.iloc[p:p+1, :]['log_ret']\n",
    "    model = ARIMA(ptrain, order = (3,1,0), freq='D').fit(disp = 0)\n",
    "    predict = model.predict(ptest.index[0], ptest.index[-1], dynamic = True) #-1\n",
    "    y_rolling_arima = y_rolling_arima.append(predict)"
   ]
  },
  {
   "cell_type": "code",
   "execution_count": 66,
   "metadata": {},
   "outputs": [
    {
     "data": {
      "text/plain": [
       "(44,)"
      ]
     },
     "execution_count": 66,
     "metadata": {},
     "output_type": "execute_result"
    }
   ],
   "source": [
    "y_rolling_arima.shape"
   ]
  },
  {
   "cell_type": "code",
   "execution_count": 67,
   "metadata": {},
   "outputs": [
    {
     "data": {
      "text/plain": [
       "(361,)"
      ]
     },
     "execution_count": 67,
     "metadata": {},
     "output_type": "execute_result"
    }
   ],
   "source": [
    "BTCUSD.iloc[1670:,:]['log_ret'].shape"
   ]
  },
  {
   "cell_type": "code",
   "execution_count": 61,
   "metadata": {},
   "outputs": [
    {
     "name": "stdout",
     "output_type": "stream",
     "text": [
      "Prediction RMSE is 0.0512, directional accuracy is 0.5125\n"
     ]
    }
   ],
   "source": [
    "metrics(BTCUSD.iloc[1670:,:]['log_ret'], y_rolling_arima)"
   ]
  },
  {
   "cell_type": "code",
   "execution_count": 28,
   "metadata": {},
   "outputs": [
    {
     "data": {
      "image/png": "[encoded data removed]",
      "text/plain": [
       "<Figure size 432x288 with 1 Axes>"
      ]
     },
     "metadata": {
      "needs_background": "light"
     },
     "output_type": "display_data"
    }
   ],
   "source": [
    "y_rolling_arima.plot();"
   ]
  },
  {
   "cell_type": "markdown",
   "metadata": {},
   "source": [
    "With the 60 days rolling ARIMA calculations, the prediction RMSE is better and does not simply attenuates to using last close as the prediction. The directional accuracy is slightly better than a random guess and better than our baseline of using last period direction. This would also be similar to live situation where models are tuned on a daily basis."
   ]
  },
  {
   "cell_type": "code",
   "execution_count": 30,
   "metadata": {},
   "outputs": [
    {
     "data": {
      "image/png": "[encoded data removed]",
      "text/plain": [
       "<Figure size 432x288 with 1 Axes>"
      ]
     },
     "metadata": {
      "needs_background": "light"
     },
     "output_type": "display_data"
    }
   ],
   "source": [
    "y_true = pd.Series(BTCUSD.iloc[1640:, :]['Close'])\n",
    "y_rolling_arima_pred = pd.Series(np.exp(y_rolling_arima.shift(-1)) *  BTCUSD.iloc[1640:, :]['Close'])\n",
    "\n",
    "foo = pd.concat([y_true, y_rolling_arima_pred], axis=1)\n",
    "foo.columns = ['price', 'pred']\n",
    "foo.plot();"
   ]
  },
  {
   "cell_type": "code",
   "execution_count": null,
   "metadata": {},
   "outputs": [],
   "source": []
  }
 ],
 "metadata": {
  "kernelspec": {
   "display_name": "Python 3",
   "language": "python",
   "name": "python3"
  },
  "language_info": {
   "codemirror_mode": {
    "name": "ipython",
    "version": 3
   },
   "file_extension": ".py",
   "mimetype": "text/x-python",
   "name": "python",
   "nbconvert_exporter": "python",
   "pygments_lexer": "ipython3",
   "version": "3.7.3"
  }
 },
 "nbformat": 4,
 "nbformat_minor": 2
}
