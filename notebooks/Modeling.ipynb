{
 "cells": [
  {
   "cell_type": "code",
   "execution_count": 1,
   "metadata": {},
   "outputs": [],
   "source": [
    "import sys, os\n",
    "from pathlib import Path\n",
    "import pandas as pd\n",
    "import numpy as np\n",
    "from pandas.util.testing import assert_frame_equal\n",
    "\n",
    "from statsmodels.tsa.stattools import acf, adfuller\n",
    "from statsmodels.tsa.ar_model import AR\n",
    "from statsmodels.tsa.arima_model import ARIMA\n",
    "from sklearn.metrics import accuracy_score, mean_absolute_error, mean_squared_error, confusion_matrix\n",
    "\n",
    "import matplotlib.pyplot as plt\n",
    "import seaborn as sns\n",
    "%matplotlib inline\n",
    "\n",
    "sys.path.append(\"..\")\n",
    "from btc_predictor.utils import preproc"
   ]
  },
  {
   "cell_type": "code",
   "execution_count": 2,
   "metadata": {},
   "outputs": [],
   "source": [
    "df = pd.read_csv(\"../btc_predictor/datasets/btcusd.csv\")"
   ]
  },
  {
   "cell_type": "code",
   "execution_count": 3,
   "metadata": {},
   "outputs": [],
   "source": [
    "BTCUSD  = preproc(df.copy())\n",
    "\n",
    "BTCUSD['log_ret'] = np.log(BTCUSD.Close) - np.log(BTCUSD.Close.shift(1))\n",
    "\n",
    "BTCUSD['baseline_Close'] = BTCUSD.Close.shift(1)\n",
    "BTCUSD['baseline_log_ret'] = np.log(BTCUSD.baseline_Close) - np.log(BTCUSD.baseline_Close.shift(1))\n",
    "BTCUSD.dropna(inplace=True)"
   ]
  },
  {
   "cell_type": "markdown",
   "metadata": {},
   "source": [
    "# 1. Establishing Baseline"
   ]
  },
  {
   "cell_type": "code",
   "execution_count": 4,
   "metadata": {
    "scrolled": false
   },
   "outputs": [
    {
     "data": {
      "text/plain": [
       "9.95356055887107"
      ]
     },
     "execution_count": 4,
     "metadata": {},
     "output_type": "execute_result"
    }
   ],
   "source": [
    "np.sqrt(mean_absolute_error(BTCUSD.Close, BTCUSD.baseline_Close))"
   ]
  },
  {
   "cell_type": "code",
   "execution_count": 5,
   "metadata": {},
   "outputs": [
    {
     "data": {
      "text/plain": [
       "count     2031.000000\n",
       "mean      2928.330074\n",
       "std       3627.266960\n",
       "min        178.100000\n",
       "25%        420.485000\n",
       "50%        739.250000\n",
       "75%       5048.250000\n",
       "max      19497.400000\n",
       "Name: Close, dtype: float64"
      ]
     },
     "execution_count": 5,
     "metadata": {},
     "output_type": "execute_result"
    }
   ],
   "source": [
    "BTCUSD.Close.describe()"
   ]
  },
  {
   "cell_type": "markdown",
   "metadata": {},
   "source": [
    "Due to the wild fluctuations of BTCUSD prices, from \\\\$700s at the beginning of our data stream to \\\\$10,000s towards the end, root mean squared error become an useless metric as the former erorr will miniscule compare to the later errors. Instead, we will look at the RMSE of the normalized and stationary log return."
   ]
  },
  {
   "cell_type": "code",
   "execution_count": 6,
   "metadata": {
    "scrolled": true
   },
   "outputs": [
    {
     "data": {
      "text/plain": [
       "0.05635804810175371"
      ]
     },
     "execution_count": 6,
     "metadata": {},
     "output_type": "execute_result"
    }
   ],
   "source": [
    "np.sqrt(mean_squared_error(BTCUSD.log_ret, BTCUSD.baseline_log_ret))"
   ]
  },
  {
   "cell_type": "markdown",
   "metadata": {},
   "source": [
    "The loss is around 5%, which means the prior day return is an extremely great predictor of current day return. It would be hard to beat that. But the story will change if we look at the directions of the return. The direction of the return is more important than the magnitude of the return, i.e., a trade will be money losing when the direction is wrong."
   ]
  },
  {
   "cell_type": "code",
   "execution_count": 7,
   "metadata": {},
   "outputs": [
    {
     "name": "stdout",
     "output_type": "stream",
     "text": [
      "Baseline RMSE is 0.0564, directional accuracy is 0.4884\n"
     ]
    }
   ],
   "source": [
    "print(\"Baseline RMSE is {:.4f}, directional accuracy is {:.4f}\".format(\n",
    "                                np.sqrt(mean_squared_error(BTCUSD.log_ret, BTCUSD.baseline_log_ret)),\n",
    "                                accuracy_score(np.sign(BTCUSD.log_ret), np.sign(BTCUSD.baseline_log_ret))))"
   ]
  },
  {
   "cell_type": "code",
   "execution_count": 8,
   "metadata": {},
   "outputs": [
    {
     "data": {
      "text/plain": [
       "0.48842934515017233"
      ]
     },
     "execution_count": 8,
     "metadata": {},
     "output_type": "execute_result"
    }
   ],
   "source": [
    "accuracy_score(np.sign(BTCUSD.log_ret), np.sign(BTCUSD.baseline_log_ret))"
   ]
  },
  {
   "cell_type": "code",
   "execution_count": 9,
   "metadata": {},
   "outputs": [
    {
     "data": {
      "text/plain": [
       "(array([-1.,  1.,  0.]), array([ 1., -1.,  0.]))"
      ]
     },
     "execution_count": 9,
     "metadata": {},
     "output_type": "execute_result"
    }
   ],
   "source": [
    "np.sign(BTCUSD.log_ret).unique(), np.sign(BTCUSD.baseline_log_ret).unique()"
   ]
  },
  {
   "cell_type": "markdown",
   "metadata": {},
   "source": [
    "As expected, the direction of prior day log returns is a poor predictor of the direction of current day log returns. While we can obsess with minimizing the RMSE to get a 'better' prediction, we won't be able to capitalize on that prediction until we get the direction right. Thus, it would be economically more important to obtain a better direction prediction than a better magnitude direction."
   ]
  },
  {
   "cell_type": "code",
   "execution_count": 10,
   "metadata": {},
   "outputs": [
    {
     "data": {
      "image/png": "[encoded data removed]",
      "text/plain": [
       "<Figure size 432x288 with 2 Axes>"
      ]
     },
     "metadata": {
      "needs_background": "light"
     },
     "output_type": "display_data"
    }
   ],
   "source": [
    "df_cm = pd.DataFrame(confusion_matrix(np.sign(BTCUSD.log_ret), np.sign(BTCUSD.baseline_log_ret)),  \n",
    "                     index = [i for i in \"-*+\"],\n",
    "                     columns = [i for i in \"-*+\"])\n",
    "sns.heatmap(df_cm, annot=True, cmap='Blues', fmt='g');"
   ]
  },
  {
   "cell_type": "markdown",
   "metadata": {},
   "source": [
    "## 1.2 Autoregressive (AR) Model"
   ]
  },
  {
   "cell_type": "code",
   "execution_count": 11,
   "metadata": {},
   "outputs": [],
   "source": [
    "train = BTCUSD.iloc[0:1700, :]['log_ret']\n",
    "test = BTCUSD.iloc[1700:, :]['log_ret']"
   ]
  },
  {
   "cell_type": "code",
   "execution_count": 12,
   "metadata": {
    "scrolled": true
   },
   "outputs": [],
   "source": [
    "ar = AR(train, freq='D').fit()\n",
    "\n",
    "y_pred = ar.predict(test.index[0], test.index[-1], dynamic=True)\n",
    "assert len(y_pred) == test.shape[0]"
   ]
  },
  {
   "cell_type": "code",
   "execution_count": 13,
   "metadata": {},
   "outputs": [
    {
     "name": "stdout",
     "output_type": "stream",
     "text": [
      "Prediction RMSE is 0.0379, directional accuracy is 0.5559\n"
     ]
    }
   ],
   "source": [
    "print(\"Prediction RMSE is {:.4f}, directional accuracy is {:.4f}\".format(\n",
    "                                                        np.sqrt(mean_squared_error(y_pred, test)),\n",
    "                                                        accuracy_score(np.sign(test), np.sign(y_pred))))"
   ]
  },
  {
   "cell_type": "markdown",
   "metadata": {},
   "source": [
    "## 1.3 Univariate Autoregressive integrated Moving Average (ARIMA) Model"
   ]
  },
  {
   "cell_type": "code",
   "execution_count": 14,
   "metadata": {},
   "outputs": [],
   "source": [
    "def arima_model(train, lag):\n",
    "    arima = ARIMA(train, order = (lag, 1, 0), freq = 'D').fit(disp=1)\n",
    "    return arima"
   ]
  },
  {
   "cell_type": "code",
   "execution_count": 15,
   "metadata": {},
   "outputs": [],
   "source": [
    "def metrics(y, y_pred):\n",
    "    print(\"Prediction RMSE is {:.4f}, directional accuracy is {:.4f}\".format(\n",
    "                                        np.sqrt(mean_squared_error(y_pred_arima, test)),\n",
    "                                        accuracy_score(np.sign(test), np.sign(y_pred_arima))))\n",
    "    pass"
   ]
  },
  {
   "cell_type": "markdown",
   "metadata": {},
   "source": [
    "lag = list(range(1, 31))\n",
    "print(lag)\n",
    "\n",
    "for l in lag:\n",
    "    arima = arima_model(train, l)\n",
    "    y_pred_arima = arima.predict(test.index[0], test.index[-1], dynamic=True)\n",
    "    metrics(test, y_pred_arima)"
   ]
  },
  {
   "cell_type": "code",
   "execution_count": 16,
   "metadata": {},
   "outputs": [],
   "source": [
    "arima = ARIMA(train, order = (3,1,0), freq = 'D').fit(disp = 0)\n",
    "y_pred_arima = arima.predict(test.index[0], test.index[-1], dynamic = True)\n",
    "assert len(y_pred_arima) == test.shape[0]"
   ]
  },
  {
   "cell_type": "code",
   "execution_count": 17,
   "metadata": {},
   "outputs": [
    {
     "name": "stdout",
     "output_type": "stream",
     "text": [
      "Prediction RMSE is 0.0378, directional accuracy is 0.5650\n"
     ]
    }
   ],
   "source": [
    "metrics(test, y_pred_arima)"
   ]
  },
  {
   "cell_type": "code",
   "execution_count": 18,
   "metadata": {},
   "outputs": [
    {
     "name": "stdout",
     "output_type": "stream",
     "text": [
      "Prediction RMSE is 0.0378, directional accuracy is 0.5650\n"
     ]
    }
   ],
   "source": [
    "print(\"Prediction RMSE is {:.4f}, directional accuracy is {:.4f}\".format(\n",
    "                                                        np.sqrt(mean_squared_error(y_pred_arima, test)),\n",
    "                                                        accuracy_score(np.sign(test), np.sign(y_pred_arima))))"
   ]
  },
  {
   "cell_type": "markdown",
   "metadata": {},
   "source": [
    "That's an improvement to our baseline of 0.056 RMSE and 0.4884 direction accuracy"
   ]
  },
  {
   "cell_type": "code",
   "execution_count": 36,
   "metadata": {},
   "outputs": [
    {
     "data": {
      "text/plain": [
       "<matplotlib.axes._subplots.AxesSubplot at 0x1edef5faac8>"
      ]
     },
     "execution_count": 36,
     "metadata": {},
     "output_type": "execute_result"
    },
    {
     "data": {
      "image/png": "[encoded data removed]",
      "text/plain": [
       "<Figure size 432x288 with 1 Axes>"
      ]
     },
     "metadata": {
      "needs_background": "light"
     },
     "output_type": "display_data"
    }
   ],
   "source": [
    "y_pred_arima.plot()"
   ]
  },
  {
   "cell_type": "code",
   "execution_count": 37,
   "metadata": {},
   "outputs": [
    {
     "data": {
      "text/plain": [
       "<matplotlib.axes._subplots.AxesSubplot at 0x1edef9deef0>"
      ]
     },
     "execution_count": 37,
     "metadata": {},
     "output_type": "execute_result"
    },
    {
     "data": {
      "image/png": "[encoded data removed]",
      "text/plain": [
       "<Figure size 432x288 with 1 Axes>"
      ]
     },
     "metadata": {
      "needs_background": "light"
     },
     "output_type": "display_data"
    }
   ],
   "source": [
    "test.plot()"
   ]
  },
  {
   "cell_type": "code",
   "execution_count": 19,
   "metadata": {},
   "outputs": [
    {
     "data": {
      "text/html": [
       "<div>\n",
       "<style scoped>\n",
       "    .dataframe tbody tr th:only-of-type {\n",
       "        vertical-align: middle;\n",
       "    }\n",
       "\n",
       "    .dataframe tbody tr th {\n",
       "        vertical-align: top;\n",
       "    }\n",
       "\n",
       "    .dataframe thead th {\n",
       "        text-align: right;\n",
       "    }\n",
       "</style>\n",
       "<table border=\"1\" class=\"dataframe\">\n",
       "  <thead>\n",
       "    <tr style=\"text-align: right;\">\n",
       "      <th></th>\n",
       "      <th>Open</th>\n",
       "      <th>High</th>\n",
       "      <th>Low</th>\n",
       "      <th>Close</th>\n",
       "      <th>Volume</th>\n",
       "      <th>Market Cap</th>\n",
       "      <th>log_ret</th>\n",
       "      <th>baseline_Close</th>\n",
       "      <th>baseline_log_ret</th>\n",
       "    </tr>\n",
       "    <tr>\n",
       "      <th>Date</th>\n",
       "      <th></th>\n",
       "      <th></th>\n",
       "      <th></th>\n",
       "      <th></th>\n",
       "      <th></th>\n",
       "      <th></th>\n",
       "      <th></th>\n",
       "      <th></th>\n",
       "      <th></th>\n",
       "    </tr>\n",
       "  </thead>\n",
       "  <tbody>\n",
       "    <tr>\n",
       "      <th>2018-08-23</th>\n",
       "      <td>6371.34</td>\n",
       "      <td>6546.54</td>\n",
       "      <td>6371.34</td>\n",
       "      <td>6534.88</td>\n",
       "      <td>3.426180e+09</td>\n",
       "      <td>112577436411</td>\n",
       "      <td>0.024502</td>\n",
       "      <td>6376.71</td>\n",
       "      <td>-0.017419</td>\n",
       "    </tr>\n",
       "    <tr>\n",
       "      <th>2018-08-24</th>\n",
       "      <td>6551.52</td>\n",
       "      <td>6719.96</td>\n",
       "      <td>6498.64</td>\n",
       "      <td>6719.96</td>\n",
       "      <td>4.097820e+09</td>\n",
       "      <td>115778358839</td>\n",
       "      <td>0.027928</td>\n",
       "      <td>6534.88</td>\n",
       "      <td>0.024502</td>\n",
       "    </tr>\n",
       "    <tr>\n",
       "      <th>2018-08-25</th>\n",
       "      <td>6719.95</td>\n",
       "      <td>6789.63</td>\n",
       "      <td>6700.96</td>\n",
       "      <td>6763.19</td>\n",
       "      <td>3.312600e+09</td>\n",
       "      <td>116534497933</td>\n",
       "      <td>0.006412</td>\n",
       "      <td>6719.96</td>\n",
       "      <td>0.027928</td>\n",
       "    </tr>\n",
       "    <tr>\n",
       "      <th>2018-08-26</th>\n",
       "      <td>6754.64</td>\n",
       "      <td>6774.75</td>\n",
       "      <td>6620.75</td>\n",
       "      <td>6707.26</td>\n",
       "      <td>3.295500e+09</td>\n",
       "      <td>115585205491</td>\n",
       "      <td>-0.008304</td>\n",
       "      <td>6763.19</td>\n",
       "      <td>0.006412</td>\n",
       "    </tr>\n",
       "    <tr>\n",
       "      <th>2018-08-27</th>\n",
       "      <td>6710.80</td>\n",
       "      <td>6884.64</td>\n",
       "      <td>6689.71</td>\n",
       "      <td>6884.64</td>\n",
       "      <td>4.019000e+09</td>\n",
       "      <td>118657885712</td>\n",
       "      <td>0.026102</td>\n",
       "      <td>6707.26</td>\n",
       "      <td>-0.008304</td>\n",
       "    </tr>\n",
       "  </tbody>\n",
       "</table>\n",
       "</div>"
      ],
      "text/plain": [
       "               Open     High      Low    Close        Volume    Market Cap  \\\n",
       "Date                                                                         \n",
       "2018-08-23  6371.34  6546.54  6371.34  6534.88  3.426180e+09  112577436411   \n",
       "2018-08-24  6551.52  6719.96  6498.64  6719.96  4.097820e+09  115778358839   \n",
       "2018-08-25  6719.95  6789.63  6700.96  6763.19  3.312600e+09  116534497933   \n",
       "2018-08-26  6754.64  6774.75  6620.75  6707.26  3.295500e+09  115585205491   \n",
       "2018-08-27  6710.80  6884.64  6689.71  6884.64  4.019000e+09  118657885712   \n",
       "\n",
       "             log_ret  baseline_Close  baseline_log_ret  \n",
       "Date                                                    \n",
       "2018-08-23  0.024502         6376.71         -0.017419  \n",
       "2018-08-24  0.027928         6534.88          0.024502  \n",
       "2018-08-25  0.006412         6719.96          0.027928  \n",
       "2018-08-26 -0.008304         6763.19          0.006412  \n",
       "2018-08-27  0.026102         6707.26         -0.008304  "
      ]
     },
     "execution_count": 19,
     "metadata": {},
     "output_type": "execute_result"
    }
   ],
   "source": [
    " BTCUSD.iloc[1700:, :].head()"
   ]
  },
  {
   "cell_type": "code",
   "execution_count": 20,
   "metadata": {},
   "outputs": [],
   "source": [
    "test_df = BTCUSD.iloc[1700:, :].copy()"
   ]
  },
  {
   "cell_type": "code",
   "execution_count": 21,
   "metadata": {},
   "outputs": [
    {
     "data": {
      "text/html": [
       "<div>\n",
       "<style scoped>\n",
       "    .dataframe tbody tr th:only-of-type {\n",
       "        vertical-align: middle;\n",
       "    }\n",
       "\n",
       "    .dataframe tbody tr th {\n",
       "        vertical-align: top;\n",
       "    }\n",
       "\n",
       "    .dataframe thead th {\n",
       "        text-align: right;\n",
       "    }\n",
       "</style>\n",
       "<table border=\"1\" class=\"dataframe\">\n",
       "  <thead>\n",
       "    <tr style=\"text-align: right;\">\n",
       "      <th></th>\n",
       "      <th>Open</th>\n",
       "      <th>High</th>\n",
       "      <th>Low</th>\n",
       "      <th>Close</th>\n",
       "      <th>Volume</th>\n",
       "      <th>Market Cap</th>\n",
       "      <th>log_ret</th>\n",
       "      <th>baseline_Close</th>\n",
       "      <th>baseline_log_ret</th>\n",
       "    </tr>\n",
       "    <tr>\n",
       "      <th>Date</th>\n",
       "      <th></th>\n",
       "      <th></th>\n",
       "      <th></th>\n",
       "      <th></th>\n",
       "      <th></th>\n",
       "      <th></th>\n",
       "      <th></th>\n",
       "      <th></th>\n",
       "      <th></th>\n",
       "    </tr>\n",
       "  </thead>\n",
       "  <tbody>\n",
       "    <tr>\n",
       "      <th>2018-08-23</th>\n",
       "      <td>6371.34</td>\n",
       "      <td>6546.54</td>\n",
       "      <td>6371.34</td>\n",
       "      <td>6534.88</td>\n",
       "      <td>3.426180e+09</td>\n",
       "      <td>112577436411</td>\n",
       "      <td>0.024502</td>\n",
       "      <td>6376.71</td>\n",
       "      <td>-0.017419</td>\n",
       "    </tr>\n",
       "    <tr>\n",
       "      <th>2018-08-24</th>\n",
       "      <td>6551.52</td>\n",
       "      <td>6719.96</td>\n",
       "      <td>6498.64</td>\n",
       "      <td>6719.96</td>\n",
       "      <td>4.097820e+09</td>\n",
       "      <td>115778358839</td>\n",
       "      <td>0.027928</td>\n",
       "      <td>6534.88</td>\n",
       "      <td>0.024502</td>\n",
       "    </tr>\n",
       "    <tr>\n",
       "      <th>2018-08-25</th>\n",
       "      <td>6719.95</td>\n",
       "      <td>6789.63</td>\n",
       "      <td>6700.96</td>\n",
       "      <td>6763.19</td>\n",
       "      <td>3.312600e+09</td>\n",
       "      <td>116534497933</td>\n",
       "      <td>0.006412</td>\n",
       "      <td>6719.96</td>\n",
       "      <td>0.027928</td>\n",
       "    </tr>\n",
       "    <tr>\n",
       "      <th>2018-08-26</th>\n",
       "      <td>6754.64</td>\n",
       "      <td>6774.75</td>\n",
       "      <td>6620.75</td>\n",
       "      <td>6707.26</td>\n",
       "      <td>3.295500e+09</td>\n",
       "      <td>115585205491</td>\n",
       "      <td>-0.008304</td>\n",
       "      <td>6763.19</td>\n",
       "      <td>0.006412</td>\n",
       "    </tr>\n",
       "    <tr>\n",
       "      <th>2018-08-27</th>\n",
       "      <td>6710.80</td>\n",
       "      <td>6884.64</td>\n",
       "      <td>6689.71</td>\n",
       "      <td>6884.64</td>\n",
       "      <td>4.019000e+09</td>\n",
       "      <td>118657885712</td>\n",
       "      <td>0.026102</td>\n",
       "      <td>6707.26</td>\n",
       "      <td>-0.008304</td>\n",
       "    </tr>\n",
       "  </tbody>\n",
       "</table>\n",
       "</div>"
      ],
      "text/plain": [
       "               Open     High      Low    Close        Volume    Market Cap  \\\n",
       "Date                                                                         \n",
       "2018-08-23  6371.34  6546.54  6371.34  6534.88  3.426180e+09  112577436411   \n",
       "2018-08-24  6551.52  6719.96  6498.64  6719.96  4.097820e+09  115778358839   \n",
       "2018-08-25  6719.95  6789.63  6700.96  6763.19  3.312600e+09  116534497933   \n",
       "2018-08-26  6754.64  6774.75  6620.75  6707.26  3.295500e+09  115585205491   \n",
       "2018-08-27  6710.80  6884.64  6689.71  6884.64  4.019000e+09  118657885712   \n",
       "\n",
       "             log_ret  baseline_Close  baseline_log_ret  \n",
       "Date                                                    \n",
       "2018-08-23  0.024502         6376.71         -0.017419  \n",
       "2018-08-24  0.027928         6534.88          0.024502  \n",
       "2018-08-25  0.006412         6719.96          0.027928  \n",
       "2018-08-26 -0.008304         6763.19          0.006412  \n",
       "2018-08-27  0.026102         6707.26         -0.008304  "
      ]
     },
     "execution_count": 21,
     "metadata": {},
     "output_type": "execute_result"
    }
   ],
   "source": [
    "test_df.head()"
   ]
  },
  {
   "cell_type": "markdown",
   "metadata": {},
   "source": [
    "To get back prices from log returns, we multiply current period price by predicted next period return `np.exp(log_ret)`."
   ]
  },
  {
   "cell_type": "code",
   "execution_count": 22,
   "metadata": {},
   "outputs": [
    {
     "name": "stdout",
     "output_type": "stream",
     "text": [
      "Date\n",
      "2018-08-23     6719.96\n",
      "2018-08-24     6763.19\n",
      "2018-08-25     6707.26\n",
      "2018-08-26     6884.64\n",
      "2018-08-27     7096.28\n",
      "                ...   \n",
      "2019-07-15     9477.64\n",
      "2019-07-16     9693.80\n",
      "2019-07-17    10666.48\n",
      "2019-07-18    10530.73\n",
      "2019-07-19         NaN\n",
      "Length: 331, dtype: float64\n"
     ]
    }
   ],
   "source": [
    "y_true_s = pd.Series(np.exp(test_df.log_ret.shift(-1)) * test_df.Close)\n",
    "print(y_true_s)"
   ]
  },
  {
   "cell_type": "code",
   "execution_count": 23,
   "metadata": {},
   "outputs": [
    {
     "name": "stdout",
     "output_type": "stream",
     "text": [
      "2018-08-23     6541.908396\n",
      "2018-08-24     6740.218200\n",
      "2018-08-25     6724.557747\n",
      "2018-08-26     6723.543777\n",
      "2018-08-27     6888.398728\n",
      "                  ...     \n",
      "2019-07-15    10895.135227\n",
      "2019-07-16     9477.679343\n",
      "2019-07-17     9693.840240\n",
      "2019-07-18    10666.524278\n",
      "2019-07-19             NaN\n",
      "Freq: D, Length: 331, dtype: float64\n"
     ]
    }
   ],
   "source": [
    "y_arima_pred_s = pd.Series(np.exp(y_pred_arima.shift(-1)) * test_df.Close)\n",
    "print(y_arima_pred_s)"
   ]
  },
  {
   "cell_type": "code",
   "execution_count": 24,
   "metadata": {},
   "outputs": [],
   "source": [
    "foo = pd.concat([y_true_s, y_arima_pred_s], axis=1)\n",
    "foo.columns = ['price', 'pred']"
   ]
  },
  {
   "cell_type": "code",
   "execution_count": 25,
   "metadata": {},
   "outputs": [
    {
     "data": {
      "text/html": [
       "<div>\n",
       "<style scoped>\n",
       "    .dataframe tbody tr th:only-of-type {\n",
       "        vertical-align: middle;\n",
       "    }\n",
       "\n",
       "    .dataframe tbody tr th {\n",
       "        vertical-align: top;\n",
       "    }\n",
       "\n",
       "    .dataframe thead th {\n",
       "        text-align: right;\n",
       "    }\n",
       "</style>\n",
       "<table border=\"1\" class=\"dataframe\">\n",
       "  <thead>\n",
       "    <tr style=\"text-align: right;\">\n",
       "      <th></th>\n",
       "      <th>price</th>\n",
       "      <th>pred</th>\n",
       "    </tr>\n",
       "  </thead>\n",
       "  <tbody>\n",
       "    <tr>\n",
       "      <th>2018-08-23</th>\n",
       "      <td>6719.96</td>\n",
       "      <td>6541.908396</td>\n",
       "    </tr>\n",
       "    <tr>\n",
       "      <th>2018-08-24</th>\n",
       "      <td>6763.19</td>\n",
       "      <td>6740.218200</td>\n",
       "    </tr>\n",
       "    <tr>\n",
       "      <th>2018-08-25</th>\n",
       "      <td>6707.26</td>\n",
       "      <td>6724.557747</td>\n",
       "    </tr>\n",
       "    <tr>\n",
       "      <th>2018-08-26</th>\n",
       "      <td>6884.64</td>\n",
       "      <td>6723.543777</td>\n",
       "    </tr>\n",
       "    <tr>\n",
       "      <th>2018-08-27</th>\n",
       "      <td>7096.28</td>\n",
       "      <td>6888.398728</td>\n",
       "    </tr>\n",
       "  </tbody>\n",
       "</table>\n",
       "</div>"
      ],
      "text/plain": [
       "              price         pred\n",
       "2018-08-23  6719.96  6541.908396\n",
       "2018-08-24  6763.19  6740.218200\n",
       "2018-08-25  6707.26  6724.557747\n",
       "2018-08-26  6884.64  6723.543777\n",
       "2018-08-27  7096.28  6888.398728"
      ]
     },
     "execution_count": 25,
     "metadata": {},
     "output_type": "execute_result"
    }
   ],
   "source": [
    "foo.head()"
   ]
  },
  {
   "cell_type": "code",
   "execution_count": 26,
   "metadata": {},
   "outputs": [
    {
     "data": {
      "text/plain": [
       "<matplotlib.axes._subplots.AxesSubplot at 0x1edef6b5978>"
      ]
     },
     "execution_count": 26,
     "metadata": {},
     "output_type": "execute_result"
    },
    {
     "data": {
      "image/png": "[encoded data removed]",
      "text/plain": [
       "<Figure size 432x288 with 1 Axes>"
      ]
     },
     "metadata": {
      "needs_background": "light"
     },
     "output_type": "display_data"
    }
   ],
   "source": [
    "foo.plot()"
   ]
  },
  {
   "cell_type": "code",
   "execution_count": 27,
   "metadata": {},
   "outputs": [
    {
     "data": {
      "text/html": [
       "<div>\n",
       "<style scoped>\n",
       "    .dataframe tbody tr th:only-of-type {\n",
       "        vertical-align: middle;\n",
       "    }\n",
       "\n",
       "    .dataframe tbody tr th {\n",
       "        vertical-align: top;\n",
       "    }\n",
       "\n",
       "    .dataframe thead th {\n",
       "        text-align: right;\n",
       "    }\n",
       "</style>\n",
       "<table border=\"1\" class=\"dataframe\">\n",
       "  <thead>\n",
       "    <tr style=\"text-align: right;\">\n",
       "      <th></th>\n",
       "      <th>price</th>\n",
       "      <th>pred</th>\n",
       "    </tr>\n",
       "  </thead>\n",
       "  <tbody>\n",
       "    <tr>\n",
       "      <th>2018-08-23</th>\n",
       "      <td>6719.96</td>\n",
       "      <td>6541.908396</td>\n",
       "    </tr>\n",
       "    <tr>\n",
       "      <th>2018-08-24</th>\n",
       "      <td>6763.19</td>\n",
       "      <td>6740.218200</td>\n",
       "    </tr>\n",
       "    <tr>\n",
       "      <th>2018-08-25</th>\n",
       "      <td>6707.26</td>\n",
       "      <td>6724.557747</td>\n",
       "    </tr>\n",
       "    <tr>\n",
       "      <th>2018-08-26</th>\n",
       "      <td>6884.64</td>\n",
       "      <td>6723.543777</td>\n",
       "    </tr>\n",
       "    <tr>\n",
       "      <th>2018-08-27</th>\n",
       "      <td>7096.28</td>\n",
       "      <td>6888.398728</td>\n",
       "    </tr>\n",
       "    <tr>\n",
       "      <th>2018-08-28</th>\n",
       "      <td>7047.16</td>\n",
       "      <td>7093.754629</td>\n",
       "    </tr>\n",
       "    <tr>\n",
       "      <th>2018-08-29</th>\n",
       "      <td>6978.23</td>\n",
       "      <td>7043.117293</td>\n",
       "    </tr>\n",
       "    <tr>\n",
       "      <th>2018-08-30</th>\n",
       "      <td>7037.58</td>\n",
       "      <td>6981.713353</td>\n",
       "    </tr>\n",
       "    <tr>\n",
       "      <th>2018-08-31</th>\n",
       "      <td>7193.25</td>\n",
       "      <td>7037.759520</td>\n",
       "    </tr>\n",
       "    <tr>\n",
       "      <th>2018-09-01</th>\n",
       "      <td>7272.72</td>\n",
       "      <td>7192.241572</td>\n",
       "    </tr>\n",
       "    <tr>\n",
       "      <th>2018-09-02</th>\n",
       "      <td>7260.06</td>\n",
       "      <td>7272.616994</td>\n",
       "    </tr>\n",
       "    <tr>\n",
       "      <th>2018-09-03</th>\n",
       "      <td>7361.66</td>\n",
       "      <td>7260.707782</td>\n",
       "    </tr>\n",
       "    <tr>\n",
       "      <th>2018-09-04</th>\n",
       "      <td>6792.83</td>\n",
       "      <td>7361.541995</td>\n",
       "    </tr>\n",
       "    <tr>\n",
       "      <th>2018-09-05</th>\n",
       "      <td>6529.17</td>\n",
       "      <td>6792.682934</td>\n",
       "    </tr>\n",
       "    <tr>\n",
       "      <th>2018-09-06</th>\n",
       "      <td>6467.07</td>\n",
       "      <td>6529.263762</td>\n",
       "    </tr>\n",
       "    <tr>\n",
       "      <th>2018-09-07</th>\n",
       "      <td>6225.98</td>\n",
       "      <td>6467.166235</td>\n",
       "    </tr>\n",
       "    <tr>\n",
       "      <th>2018-09-08</th>\n",
       "      <td>6300.86</td>\n",
       "      <td>6225.959664</td>\n",
       "    </tr>\n",
       "    <tr>\n",
       "      <th>2018-09-09</th>\n",
       "      <td>6329.70</td>\n",
       "      <td>6300.870247</td>\n",
       "    </tr>\n",
       "    <tr>\n",
       "      <th>2018-09-10</th>\n",
       "      <td>6321.20</td>\n",
       "      <td>6329.747317</td>\n",
       "    </tr>\n",
       "    <tr>\n",
       "      <th>2018-09-11</th>\n",
       "      <td>6351.80</td>\n",
       "      <td>6321.229900</td>\n",
       "    </tr>\n",
       "  </tbody>\n",
       "</table>\n",
       "</div>"
      ],
      "text/plain": [
       "              price         pred\n",
       "2018-08-23  6719.96  6541.908396\n",
       "2018-08-24  6763.19  6740.218200\n",
       "2018-08-25  6707.26  6724.557747\n",
       "2018-08-26  6884.64  6723.543777\n",
       "2018-08-27  7096.28  6888.398728\n",
       "2018-08-28  7047.16  7093.754629\n",
       "2018-08-29  6978.23  7043.117293\n",
       "2018-08-30  7037.58  6981.713353\n",
       "2018-08-31  7193.25  7037.759520\n",
       "2018-09-01  7272.72  7192.241572\n",
       "2018-09-02  7260.06  7272.616994\n",
       "2018-09-03  7361.66  7260.707782\n",
       "2018-09-04  6792.83  7361.541995\n",
       "2018-09-05  6529.17  6792.682934\n",
       "2018-09-06  6467.07  6529.263762\n",
       "2018-09-07  6225.98  6467.166235\n",
       "2018-09-08  6300.86  6225.959664\n",
       "2018-09-09  6329.70  6300.870247\n",
       "2018-09-10  6321.20  6329.747317\n",
       "2018-09-11  6351.80  6321.229900"
      ]
     },
     "execution_count": 27,
     "metadata": {},
     "output_type": "execute_result"
    }
   ],
   "source": [
    "foo.head(20)"
   ]
  },
  {
   "cell_type": "code",
   "execution_count": 29,
   "metadata": {},
   "outputs": [
    {
     "data": {
      "text/html": [
       "<div>\n",
       "<style scoped>\n",
       "    .dataframe tbody tr th:only-of-type {\n",
       "        vertical-align: middle;\n",
       "    }\n",
       "\n",
       "    .dataframe tbody tr th {\n",
       "        vertical-align: top;\n",
       "    }\n",
       "\n",
       "    .dataframe thead th {\n",
       "        text-align: right;\n",
       "    }\n",
       "</style>\n",
       "<table border=\"1\" class=\"dataframe\">\n",
       "  <thead>\n",
       "    <tr style=\"text-align: right;\">\n",
       "      <th></th>\n",
       "      <th>price</th>\n",
       "      <th>pred</th>\n",
       "    </tr>\n",
       "  </thead>\n",
       "  <tbody>\n",
       "    <tr>\n",
       "      <th>2019-06-30</th>\n",
       "      <td>10583.13</td>\n",
       "      <td>10817.204904</td>\n",
       "    </tr>\n",
       "    <tr>\n",
       "      <th>2019-07-01</th>\n",
       "      <td>10801.68</td>\n",
       "      <td>10583.173932</td>\n",
       "    </tr>\n",
       "    <tr>\n",
       "      <th>2019-07-02</th>\n",
       "      <td>11961.27</td>\n",
       "      <td>10801.724839</td>\n",
       "    </tr>\n",
       "    <tr>\n",
       "      <th>2019-07-03</th>\n",
       "      <td>11215.44</td>\n",
       "      <td>11961.319653</td>\n",
       "    </tr>\n",
       "    <tr>\n",
       "      <th>2019-07-04</th>\n",
       "      <td>10978.46</td>\n",
       "      <td>11215.486557</td>\n",
       "    </tr>\n",
       "    <tr>\n",
       "      <th>2019-07-05</th>\n",
       "      <td>11208.55</td>\n",
       "      <td>10978.505573</td>\n",
       "    </tr>\n",
       "    <tr>\n",
       "      <th>2019-07-06</th>\n",
       "      <td>11450.85</td>\n",
       "      <td>11208.596528</td>\n",
       "    </tr>\n",
       "    <tr>\n",
       "      <th>2019-07-07</th>\n",
       "      <td>12285.96</td>\n",
       "      <td>11450.897534</td>\n",
       "    </tr>\n",
       "    <tr>\n",
       "      <th>2019-07-08</th>\n",
       "      <td>12573.81</td>\n",
       "      <td>12286.011001</td>\n",
       "    </tr>\n",
       "    <tr>\n",
       "      <th>2019-07-09</th>\n",
       "      <td>12156.51</td>\n",
       "      <td>12573.862196</td>\n",
       "    </tr>\n",
       "    <tr>\n",
       "      <th>2019-07-10</th>\n",
       "      <td>11358.66</td>\n",
       "      <td>12156.560464</td>\n",
       "    </tr>\n",
       "    <tr>\n",
       "      <th>2019-07-11</th>\n",
       "      <td>11815.99</td>\n",
       "      <td>11358.707152</td>\n",
       "    </tr>\n",
       "    <tr>\n",
       "      <th>2019-07-12</th>\n",
       "      <td>11392.38</td>\n",
       "      <td>11816.039050</td>\n",
       "    </tr>\n",
       "    <tr>\n",
       "      <th>2019-07-13</th>\n",
       "      <td>10256.06</td>\n",
       "      <td>11392.427292</td>\n",
       "    </tr>\n",
       "    <tr>\n",
       "      <th>2019-07-14</th>\n",
       "      <td>10895.09</td>\n",
       "      <td>10256.102574</td>\n",
       "    </tr>\n",
       "    <tr>\n",
       "      <th>2019-07-15</th>\n",
       "      <td>9477.64</td>\n",
       "      <td>10895.135227</td>\n",
       "    </tr>\n",
       "    <tr>\n",
       "      <th>2019-07-16</th>\n",
       "      <td>9693.80</td>\n",
       "      <td>9477.679343</td>\n",
       "    </tr>\n",
       "    <tr>\n",
       "      <th>2019-07-17</th>\n",
       "      <td>10666.48</td>\n",
       "      <td>9693.840240</td>\n",
       "    </tr>\n",
       "    <tr>\n",
       "      <th>2019-07-18</th>\n",
       "      <td>10530.73</td>\n",
       "      <td>10666.524278</td>\n",
       "    </tr>\n",
       "    <tr>\n",
       "      <th>2019-07-19</th>\n",
       "      <td>NaN</td>\n",
       "      <td>NaN</td>\n",
       "    </tr>\n",
       "  </tbody>\n",
       "</table>\n",
       "</div>"
      ],
      "text/plain": [
       "               price          pred\n",
       "2019-06-30  10583.13  10817.204904\n",
       "2019-07-01  10801.68  10583.173932\n",
       "2019-07-02  11961.27  10801.724839\n",
       "2019-07-03  11215.44  11961.319653\n",
       "2019-07-04  10978.46  11215.486557\n",
       "2019-07-05  11208.55  10978.505573\n",
       "2019-07-06  11450.85  11208.596528\n",
       "2019-07-07  12285.96  11450.897534\n",
       "2019-07-08  12573.81  12286.011001\n",
       "2019-07-09  12156.51  12573.862196\n",
       "2019-07-10  11358.66  12156.560464\n",
       "2019-07-11  11815.99  11358.707152\n",
       "2019-07-12  11392.38  11816.039050\n",
       "2019-07-13  10256.06  11392.427292\n",
       "2019-07-14  10895.09  10256.102574\n",
       "2019-07-15   9477.64  10895.135227\n",
       "2019-07-16   9693.80   9477.679343\n",
       "2019-07-17  10666.48   9693.840240\n",
       "2019-07-18  10530.73  10666.524278\n",
       "2019-07-19       NaN           NaN"
      ]
     },
     "execution_count": 29,
     "metadata": {},
     "output_type": "execute_result"
    }
   ],
   "source": [
    "foo.tail(20)"
   ]
  },
  {
   "cell_type": "code",
   "execution_count": 28,
   "metadata": {},
   "outputs": [
    {
     "ename": "SyntaxError",
     "evalue": "invalid syntax (<ipython-input-28-dff023fe9153>, line 1)",
     "output_type": "error",
     "traceback": [
      "\u001b[1;36m  File \u001b[1;32m\"<ipython-input-28-dff023fe9153>\"\u001b[1;36m, line \u001b[1;32m1\u001b[0m\n\u001b[1;33m    wtf its just time shifting\u001b[0m\n\u001b[1;37m          ^\u001b[0m\n\u001b[1;31mSyntaxError\u001b[0m\u001b[1;31m:\u001b[0m invalid syntax\n"
     ]
    }
   ],
   "source": [
    "wtf its just time shifting"
   ]
  },
  {
   "cell_type": "code",
   "execution_count": null,
   "metadata": {},
   "outputs": [],
   "source": []
  }
 ],
 "metadata": {
  "kernelspec": {
   "display_name": "Python 3",
   "language": "python",
   "name": "python3"
  },
  "language_info": {
   "codemirror_mode": {
    "name": "ipython",
    "version": 3
   },
   "file_extension": ".py",
   "mimetype": "text/x-python",
   "name": "python",
   "nbconvert_exporter": "python",
   "pygments_lexer": "ipython3",
   "version": "3.7.3"
  }
 },
 "nbformat": 4,
 "nbformat_minor": 2
}
