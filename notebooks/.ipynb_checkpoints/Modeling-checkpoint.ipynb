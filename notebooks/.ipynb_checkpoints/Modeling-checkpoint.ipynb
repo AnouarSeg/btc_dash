{
 "cells": [
  {
   "cell_type": "code",
   "execution_count": 1,
   "metadata": {},
   "outputs": [],
   "source": [
    "import sys, os\n",
    "from pathlib import Path\n",
    "import pandas as pd\n",
    "import numpy as np\n",
    "from pandas.util.testing import assert_frame_equal\n",
    "\n",
    "from statsmodels.tsa.stattools import acf, adfuller\n",
    "from statsmodels.tsa.ar_model import AR\n",
    "from statsmodels.tsa.arima_model import ARIMA\n",
    "from sklearn.metrics import accuracy_score, mean_absolute_error, mean_squared_error, confusion_matrix\n",
    "\n",
    "import matplotlib.pyplot as plt\n",
    "import seaborn as sns\n",
    "%matplotlib inline\n",
    "\n",
    "sys.path.append(\"..\")\n",
    "from btc_predictor.utils import preproc"
   ]
  },
  {
   "cell_type": "code",
   "execution_count": 2,
   "metadata": {},
   "outputs": [],
   "source": [
    "df = pd.read_csv(\"../btc_predictor/datasets/btcusd.csv\")"
   ]
  },
  {
   "cell_type": "code",
   "execution_count": 3,
   "metadata": {},
   "outputs": [],
   "source": [
    "BTCUSD  = preproc(df.copy())\n",
    "\n",
    "BTCUSD['log_ret'] = np.log(BTCUSD.Close) - np.log(BTCUSD.Close.shift(1))\n",
    "\n",
    "BTCUSD['baseline_Close'] = BTCUSD.Close.shift(1)\n",
    "BTCUSD['baseline_log_ret'] = np.log(BTCUSD.baseline_Close) - np.log(BTCUSD.baseline_Close.shift(1))\n",
    "BTCUSD.dropna(inplace=True)"
   ]
  },
  {
   "cell_type": "markdown",
   "metadata": {},
   "source": [
    "# 1. Establishing Baseline"
   ]
  },
  {
   "cell_type": "code",
   "execution_count": 4,
   "metadata": {
    "scrolled": false
   },
   "outputs": [
    {
     "data": {
      "text/plain": [
       "9.95356055887107"
      ]
     },
     "execution_count": 4,
     "metadata": {},
     "output_type": "execute_result"
    }
   ],
   "source": [
    "np.sqrt(mean_absolute_error(BTCUSD.Close, BTCUSD.baseline_Close))"
   ]
  },
  {
   "cell_type": "code",
   "execution_count": 5,
   "metadata": {},
   "outputs": [
    {
     "data": {
      "text/plain": [
       "count     2031.000000\n",
       "mean      2928.330074\n",
       "std       3627.266960\n",
       "min        178.100000\n",
       "25%        420.485000\n",
       "50%        739.250000\n",
       "75%       5048.250000\n",
       "max      19497.400000\n",
       "Name: Close, dtype: float64"
      ]
     },
     "execution_count": 5,
     "metadata": {},
     "output_type": "execute_result"
    }
   ],
   "source": [
    "BTCUSD.Close.describe()"
   ]
  },
  {
   "cell_type": "markdown",
   "metadata": {},
   "source": [
    "Due to the wild fluctuations of BTCUSD prices, from \\\\$700s at the beginning of our data stream to \\\\$10,000s towards the end, root mean squared error become an useless metric as the former erorr will miniscule compare to the later errors. Instead, we will look at the RMSE of the normalized and stationary log return."
   ]
  },
  {
   "cell_type": "code",
   "execution_count": 6,
   "metadata": {
    "scrolled": true
   },
   "outputs": [
    {
     "data": {
      "text/plain": [
       "0.05635804810175371"
      ]
     },
     "execution_count": 6,
     "metadata": {},
     "output_type": "execute_result"
    }
   ],
   "source": [
    "np.sqrt(mean_squared_error(BTCUSD.log_ret, BTCUSD.baseline_log_ret))"
   ]
  },
  {
   "cell_type": "markdown",
   "metadata": {},
   "source": [
    "The loss is around 5%, which means the prior day return is an extremely great predictor of current day return. It would be hard to beat that. But the story will change if we look at the directions of the return. The direction of the return is more important than the magnitude of the return, i.e., a trade will be money losing when the direction is wrong."
   ]
  },
  {
   "cell_type": "code",
   "execution_count": 7,
   "metadata": {},
   "outputs": [
    {
     "name": "stdout",
     "output_type": "stream",
     "text": [
      "Baseline RMSE is 0.0564, directional accuracy is 0.4884\n"
     ]
    }
   ],
   "source": [
    "print(\"Baseline RMSE is {:.4f}, directional accuracy is {:.4f}\".format(\n",
    "                                np.sqrt(mean_squared_error(BTCUSD.log_ret, BTCUSD.baseline_log_ret)),\n",
    "                                accuracy_score(np.sign(BTCUSD.log_ret), np.sign(BTCUSD.baseline_log_ret))))"
   ]
  },
  {
   "cell_type": "code",
   "execution_count": 8,
   "metadata": {},
   "outputs": [
    {
     "data": {
      "text/plain": [
       "0.48842934515017233"
      ]
     },
     "execution_count": 8,
     "metadata": {},
     "output_type": "execute_result"
    }
   ],
   "source": [
    "accuracy_score(np.sign(BTCUSD.log_ret), np.sign(BTCUSD.baseline_log_ret))"
   ]
  },
  {
   "cell_type": "code",
   "execution_count": 9,
   "metadata": {},
   "outputs": [
    {
     "data": {
      "text/plain": [
       "(array([-1.,  1.,  0.]), array([ 1., -1.,  0.]))"
      ]
     },
     "execution_count": 9,
     "metadata": {},
     "output_type": "execute_result"
    }
   ],
   "source": [
    "np.sign(BTCUSD.log_ret).unique(), np.sign(BTCUSD.baseline_log_ret).unique()"
   ]
  },
  {
   "cell_type": "markdown",
   "metadata": {},
   "source": [
    "As expected, the direction of prior day log returns is a poor predictor of the direction of current day log returns. While we can obsess with minimizing the RMSE to get a 'better' prediction, we won't be able to capitalize on that prediction until we get the direction right. Thus, it would be economically more important to obtain a better direction prediction than a better magnitude direction."
   ]
  },
  {
   "cell_type": "code",
   "execution_count": 10,
   "metadata": {},
   "outputs": [
    {
     "data": {
      "image/png": "[encoded data removed]",
      "text/plain": [
       "<Figure size 432x288 with 2 Axes>"
      ]
     },
     "metadata": {
      "needs_background": "light"
     },
     "output_type": "display_data"
    }
   ],
   "source": [
    "df_cm = pd.DataFrame(confusion_matrix(np.sign(BTCUSD.log_ret), np.sign(BTCUSD.baseline_log_ret)),  \n",
    "                     index = [i for i in \"-*+\"],\n",
    "                     columns = [i for i in \"-*+\"])\n",
    "sns.heatmap(df_cm, annot=True, cmap='Blues', fmt='g');"
   ]
  },
  {
   "cell_type": "markdown",
   "metadata": {},
   "source": [
    "## 1.2 Autoregressive (AR) Model"
   ]
  },
  {
   "cell_type": "code",
   "execution_count": 11,
   "metadata": {},
   "outputs": [],
   "source": [
    "train = BTCUSD.iloc[0:1700, :]['log_ret']\n",
    "test = BTCUSD.iloc[1700:, :]['log_ret']"
   ]
  },
  {
   "cell_type": "code",
   "execution_count": 13,
   "metadata": {
    "scrolled": true
   },
   "outputs": [],
   "source": [
    "ar = AR(train, freq='D').fit()\n",
    "\n",
    "y_pred = ar.predict(test.index[0], test.index[-1], dynamic=True)\n",
    "assert len(y_pred) == test.shape[0]"
   ]
  },
  {
   "cell_type": "code",
   "execution_count": 14,
   "metadata": {},
   "outputs": [
    {
     "name": "stdout",
     "output_type": "stream",
     "text": [
      "Prediction RMSE is 0.0379, directional accuracy is 0.5559\n"
     ]
    }
   ],
   "source": [
    "print(\"Prediction RMSE is {:.4f}, directional accuracy is {:.4f}\".format(\n",
    "                                                        np.sqrt(mean_squared_error(y_pred, test)),\n",
    "                                                        accuracy_score(np.sign(test), np.sign(y_pred))))"
   ]
  },
  {
   "cell_type": "markdown",
   "metadata": {},
   "source": [
    "## 1.3 Univariate Autoregressive integrated Moving Average (ARIMA) Model"
   ]
  },
  {
   "cell_type": "code",
   "execution_count": 22,
   "metadata": {},
   "outputs": [],
   "source": [
    "def arima_model(train, lag):\n",
    "    arima = ARIMA(train, order = (lag, 1, 0), freq = 'D').fit(disp=1)\n",
    "    return arima"
   ]
  },
  {
   "cell_type": "code",
   "execution_count": 28,
   "metadata": {},
   "outputs": [],
   "source": [
    "def metrics(y, y_pred):\n",
    "    print(\"Prediction RMSE is {:.4f}, directional accuracy is {:.4f}\".format(\n",
    "                                        np.sqrt(mean_squared_error(y_pred_arima, test)),\n",
    "                                        accuracy_score(np.sign(test), np.sign(y_pred_arima))))\n",
    "    pass"
   ]
  },
  {
   "cell_type": "code",
   "execution_count": 31,
   "metadata": {
    "scrolled": false
   },
   "outputs": [
    {
     "name": "stdout",
     "output_type": "stream",
     "text": [
      "[1, 2, 3, 4, 5, 6, 7, 8, 9, 10, 11, 12, 13, 14, 15, 16, 17, 18, 19, 20, 21, 22, 23, 24, 25, 26, 27, 28, 29, 30]\n",
      "Prediction RMSE is 0.0379, directional accuracy is 0.5498\n",
      "Prediction RMSE is 0.0378, directional accuracy is 0.5468\n",
      "Prediction RMSE is 0.0378, directional accuracy is 0.5650\n",
      "Prediction RMSE is 0.0379, directional accuracy is 0.5468\n",
      "Prediction RMSE is 0.0379, directional accuracy is 0.5408\n",
      "Prediction RMSE is 0.0378, directional accuracy is 0.4592\n",
      "Prediction RMSE is 0.0378, directional accuracy is 0.4592\n",
      "Prediction RMSE is 0.0378, directional accuracy is 0.4592\n",
      "Prediction RMSE is 0.0379, directional accuracy is 0.4592\n",
      "Prediction RMSE is 0.0378, directional accuracy is 0.4562\n",
      "Prediction RMSE is 0.0379, directional accuracy is 0.4562\n",
      "Prediction RMSE is 0.0378, directional accuracy is 0.4502\n",
      "Prediction RMSE is 0.0379, directional accuracy is 0.4592\n",
      "Prediction RMSE is 0.0379, directional accuracy is 0.4532\n",
      "Prediction RMSE is 0.0379, directional accuracy is 0.4562\n",
      "Prediction RMSE is 0.0379, directional accuracy is 0.4471\n",
      "Prediction RMSE is 0.0379, directional accuracy is 0.4532\n",
      "Prediction RMSE is 0.0378, directional accuracy is 0.4350\n",
      "Prediction RMSE is 0.0379, directional accuracy is 0.4683\n",
      "Prediction RMSE is 0.0379, directional accuracy is 0.4683\n",
      "Prediction RMSE is 0.0379, directional accuracy is 0.4864\n",
      "Prediction RMSE is 0.0379, directional accuracy is 0.4864\n",
      "Prediction RMSE is 0.0379, directional accuracy is 0.4743\n",
      "Prediction RMSE is 0.0379, directional accuracy is 0.4834\n",
      "Prediction RMSE is 0.0379, directional accuracy is 0.4683\n",
      "Prediction RMSE is 0.0379, directional accuracy is 0.4713\n",
      "Prediction RMSE is 0.0379, directional accuracy is 0.4683\n",
      "Prediction RMSE is 0.0379, directional accuracy is 0.4683\n",
      "Prediction RMSE is 0.0379, directional accuracy is 0.4773\n",
      "Prediction RMSE is 0.0379, directional accuracy is 0.4592\n"
     ]
    }
   ],
   "source": [
    "lag = list(range(1, 31))\n",
    "print(lag)\n",
    "\n",
    "for l in lag:\n",
    "    arima = arima_model(train, l)\n",
    "    y_pred_arima = arima.predict(test.index[0], test.index[-1], dynamic=True)\n",
    "    metrics(test, y_pred_arima)"
   ]
  },
  {
   "cell_type": "code",
   "execution_count": null,
   "metadata": {},
   "outputs": [],
   "source": []
  },
  {
   "cell_type": "code",
   "execution_count": 20,
   "metadata": {},
   "outputs": [],
   "source": [
    "arima = ARIMA(train, order = (10,1,0), freq = 'D').fit(disp = 0)\n",
    "y_pred_arima = arima.predict(test.index[0], test.index[-1], dynamic = True)\n",
    "assert len(y_pred_arima) == test.shape[0]"
   ]
  },
  {
   "cell_type": "code",
   "execution_count": 29,
   "metadata": {},
   "outputs": [
    {
     "name": "stdout",
     "output_type": "stream",
     "text": [
      "Prediction RMSE is 0.0378, directional accuracy is 0.4562\n"
     ]
    }
   ],
   "source": [
    "metrics(test, y_pred_arima)"
   ]
  },
  {
   "cell_type": "code",
   "execution_count": 21,
   "metadata": {},
   "outputs": [
    {
     "name": "stdout",
     "output_type": "stream",
     "text": [
      "Prediction RMSE is 0.0378, directional accuracy is 0.4562\n"
     ]
    }
   ],
   "source": [
    "print(\"Prediction RMSE is {:.4f}, directional accuracy is {:.4f}\".format(\n",
    "                                                        np.sqrt(mean_squared_error(y_pred_arima, test)),\n",
    "                                                        accuracy_score(np.sign(test), np.sign(y_pred_arima))))"
   ]
  },
  {
   "cell_type": "markdown",
   "metadata": {},
   "source": [
    "That's an improvement to our baseline of 0.056 RMSE and 0.4884 direction accuracy"
   ]
  },
  {
   "cell_type": "code",
   "execution_count": null,
   "metadata": {},
   "outputs": [],
   "source": []
  },
  {
   "cell_type": "code",
   "execution_count": null,
   "metadata": {},
   "outputs": [],
   "source": []
  }
 ],
 "metadata": {
  "kernelspec": {
   "display_name": "Python 3",
   "language": "python",
   "name": "python3"
  },
  "language_info": {
   "codemirror_mode": {
    "name": "ipython",
    "version": 3
   },
   "file_extension": ".py",
   "mimetype": "text/x-python",
   "name": "python",
   "nbconvert_exporter": "python",
   "pygments_lexer": "ipython3",
   "version": "3.7.3"
  }
 },
 "nbformat": 4,
 "nbformat_minor": 2
}
