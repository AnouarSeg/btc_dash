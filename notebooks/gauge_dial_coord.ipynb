{
 "cells": [
  {
   "cell_type": "code",
   "execution_count": 1,
   "metadata": {},
   "outputs": [],
   "source": [
    "import math\n",
    "\n",
    "def rotate(point, angle):\n",
    "    \"\"\"\n",
    "    Rotate a point counterclockwise by a given angle around a given origin.\n",
    "\n",
    "    The angle should be given in radians.\n",
    "    \"\"\"\n",
    "    ox, oy = 0.24, 0.5\n",
    "    px, py = point\n",
    "\n",
    "    qx = ox + math.cos(angle) * (px - ox) - math.sin(angle) * (py - oy)\n",
    "    qy = oy + math.sin(angle) * (px - ox) + math.cos(angle) * (py - oy)\n",
    "    return qx, qy"
   ]
  },
  {
   "cell_type": "code",
   "execution_count": 2,
   "metadata": {},
   "outputs": [
    {
     "name": "stdout",
     "output_type": "stream",
     "text": [
      "[(0.2352447174185242, 0.4984549150281253), (0.19364745084375787, 0.6426584774442731), (0.24475528258147577, 0.5015450849718748)]\n"
     ]
    }
   ],
   "source": [
    "coords_50 = [(0.235, 0.5), (0.24, 0.65), (0.245, 0.5)]\n",
    "coords_40 = []\n",
    "for c in coords_50:\n",
    "    coords_40 += [rotate(c, math.radians(18))]\n",
    "print(coords_40)"
   ]
  },
  {
   "cell_type": "code",
   "execution_count": 3,
   "metadata": {},
   "outputs": [
    {
     "name": "stdout",
     "output_type": "stream",
     "text": [
      "[(0.23595491502812524, 0.49706107373853764), (0.15183221215612902, 0.6213525491562422), (0.24404508497187474, 0.5029389262614624)]\n"
     ]
    }
   ],
   "source": [
    "coords_30 = []\n",
    "for c in coords_40:\n",
    "    coords_30 += [rotate(c, math.radians(18))]\n",
    "print(coords_30)"
   ]
  },
  {
   "cell_type": "code",
   "execution_count": 4,
   "metadata": {},
   "outputs": [
    {
     "name": "stdout",
     "output_type": "stream",
     "text": [
      "[(0.23706107373853763, 0.4959549150281252), (0.11864745084375786, 0.588167787843871), (0.24293892626146235, 0.5040450849718747)]\n"
     ]
    }
   ],
   "source": [
    "coords_20 = []\n",
    "for c in coords_30:\n",
    "    coords_20 += [rotate(c, math.radians(18))]\n",
    "print(coords_20)"
   ]
  },
  {
   "cell_type": "code",
   "execution_count": 5,
   "metadata": {},
   "outputs": [
    {
     "name": "stdout",
     "output_type": "stream",
     "text": [
      "[(0.23845491502812527, 0.49524471741852416), (0.09734152255572692, 0.5463525491562422), (0.2415450849718747, 0.5047552825814757)]\n"
     ]
    }
   ],
   "source": [
    "coords_10 = []\n",
    "for c in coords_20:\n",
    "    coords_10 += [rotate(c, math.radians(18))]\n",
    "print(coords_10)"
   ]
  },
  {
   "cell_type": "code",
   "execution_count": 6,
   "metadata": {},
   "outputs": [
    {
     "name": "stdout",
     "output_type": "stream",
     "text": [
      "[(0.24000000000000002, 0.49499999999999994), (0.08999999999999993, 0.5), (0.24, 0.5049999999999999)]\n"
     ]
    }
   ],
   "source": [
    "coords_0 = []\n",
    "for c in coords_10:\n",
    "    coords_0 += [rotate(c, math.radians(18))]\n",
    "print(coords_0)"
   ]
  },
  {
   "cell_type": "code",
   "execution_count": 7,
   "metadata": {},
   "outputs": [
    {
     "name": "stdout",
     "output_type": "stream",
     "text": [
      "[(0.2352447174185242, 0.5015450849718748), (0.2863525491562421, 0.6426584774442731), (0.24475528258147577, 0.4984549150281253)]\n"
     ]
    }
   ],
   "source": [
    "coords_50 = [(0.235, 0.5), (0.24, 0.65), (0.245, 0.5)]\n",
    "coords_60 = []\n",
    "for c in coords_50:\n",
    "    coords_60 += [rotate(c, math.radians(-18))]\n",
    "print(coords_60)"
   ]
  },
  {
   "cell_type": "code",
   "execution_count": 8,
   "metadata": {},
   "outputs": [
    {
     "name": "stdout",
     "output_type": "stream",
     "text": [
      "[(0.23595491502812524, 0.5029389262614624), (0.32816778784387096, 0.6213525491562422), (0.24404508497187474, 0.49706107373853764)]\n"
     ]
    }
   ],
   "source": [
    "coords_70 = []\n",
    "for c in coords_60:\n",
    "    coords_70 += [rotate(c, math.radians(-18))]\n",
    "print(coords_70)"
   ]
  },
  {
   "cell_type": "code",
   "execution_count": 9,
   "metadata": {},
   "outputs": [
    {
     "name": "stdout",
     "output_type": "stream",
     "text": [
      "[(0.23706107373853763, 0.5040450849718747), (0.36135254915624215, 0.588167787843871), (0.24293892626146235, 0.4959549150281252)]\n"
     ]
    }
   ],
   "source": [
    "coords_80 = []\n",
    "for c in coords_70:\n",
    "    coords_80 += [rotate(c, math.radians(-18))]\n",
    "print(coords_80)"
   ]
  },
  {
   "cell_type": "code",
   "execution_count": 10,
   "metadata": {},
   "outputs": [
    {
     "name": "stdout",
     "output_type": "stream",
     "text": [
      "[(0.23845491502812527, 0.5047552825814757), (0.38265847744427306, 0.5463525491562421), (0.2415450849718747, 0.49524471741852416)]\n"
     ]
    }
   ],
   "source": [
    "coords_90 = []\n",
    "for c in coords_80:\n",
    "    coords_90 += [rotate(c, math.radians(-18))]\n",
    "print(coords_90)"
   ]
  },
  {
   "cell_type": "code",
   "execution_count": 11,
   "metadata": {},
   "outputs": [
    {
     "name": "stdout",
     "output_type": "stream",
     "text": [
      "[(0.24, 0.5049999999999999), (0.39, 0.49999999999999994), (0.23999999999999996, 0.49499999999999994)]\n"
     ]
    }
   ],
   "source": [
    "coords_100 = []\n",
    "for c in coords_90:\n",
    "    coords_100 += [rotate(c, math.radians(-18))]\n",
    "print(coords_100)"
   ]
  },
  {
   "cell_type": "code",
   "execution_count": 16,
   "metadata": {},
   "outputs": [
    {
     "data": {
      "text/plain": [
       "100"
      ]
     },
     "execution_count": 16,
     "metadata": {},
     "output_type": "execute_result"
    }
   ],
   "source": [
    "1000 % 300"
   ]
  },
  {
   "cell_type": "code",
   "execution_count": null,
   "metadata": {},
   "outputs": [],
   "source": []
  }
 ],
 "metadata": {
  "kernelspec": {
   "display_name": "Python 3",
   "language": "python",
   "name": "python3"
  },
  "language_info": {
   "codemirror_mode": {
    "name": "ipython",
    "version": 3
   },
   "file_extension": ".py",
   "mimetype": "text/x-python",
   "name": "python",
   "nbconvert_exporter": "python",
   "pygments_lexer": "ipython3",
   "version": "3.7.3"
  }
 },
 "nbformat": 4,
 "nbformat_minor": 2
}
